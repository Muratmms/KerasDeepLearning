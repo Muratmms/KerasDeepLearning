{
 "cells": [
  {
   "cell_type": "code",
   "execution_count": 6,
   "metadata": {},
   "outputs": [
    {
     "name": "stdout",
     "output_type": "stream",
     "text": [
      "Yorum : think one of carlito's long time friends would make an appearance in the original carlito <UNK> out being released from jail after spending 5 years in jail that's only a few <UNK> between the end of the prequel and the start of the original semi spoiler we know from the beginning of the original carlito has spent 5 years in prison so when the prequel gives us this hollywood happy ending it's an insult to the intelligence of fans of the original what happen to gail it's the lack of continuity that made this film go direct to video release,'\n",
      "'\n",
      "etiket : 0\n",
      "\n",
      "Yorum : how you can go from clockwork orange to this crap and be able to look yourself in the mirror each morning i could have done better special effects in my bathtub there's no continuity the editor must have been asleep or on drugs its so bad acting do they have to smoke to be bad the gun either shoots blue flames or bullets make up your mind the bad girl and the other girl in the movie look so much alike that it is confusing <UNK> is it called <UNK> <UNK> wake it has nothing to do with the movie,'\n",
      "'\n",
      "etiket : 0\n",
      "\n",
      "Yorum : a few blacks <UNK> and everybody outside of the <UNK> class had ready access to guns it is the second <UNK> you know and as far as the use of modern language goes none of those westerns people have <UNK> nostalgic about actually used language that was consistent with the era depicted americans had different accents used different <UNK> spoke at a very different pace and used plenty of words and phrases that would be unrecognizable today don't blame historical inaccuracy for the fact that you just didn't dig it be honest maybe you're just uncomfortable with what you're seeing,'\n",
      "'\n",
      "etiket : 0\n",
      "\n"
     ]
    }
   ],
   "source": [
    "import numpy as np\n",
    "import matplotlib.pyplot as plt\n",
    "\n",
    "import tensorflow as tf \n",
    "from tensorflow.keras import layers, models\n",
    "from tensorflow.keras.datasets import imdb\n",
    "from tensorflow.keras.preprocessing.sequence import pad_sequences\n",
    "\n",
    "max_features = 20000   # encok kullanılan n kelmeyi kullan\n",
    "maxlen = 100 # her yorumun uzunlugu\n",
    "\n",
    "(x_train, y_train), (x_test,y_test) = imdb.load_data(num_words = max_features)\n",
    "\n",
    "# yorumların uzunlaklarını 100 olacak sekilde ayarla\n",
    "x_train = pad_sequences (x_train, maxlen = maxlen)\n",
    "x_test = pad_sequences(x_test, maxlen = maxlen)\n",
    "\n",
    "word_index = imdb.get_word_index() \n",
    "\n",
    "# kelime dizinin geri dondurmk için ters cevirelim \n",
    "reverse_word_index = {index+3: word for word, index in word_index.items() } # ters dizini\n",
    "reverse_word_index[0] = \"<PAD>\" # PAD ile eslestir\n",
    "reverse_word_index[1] = \"<START>\" \n",
    "reverse_word_index[2] = \"<UNK>\"\n",
    "reverse_word_index[3] = \"<UNUSED>\"\n",
    "\n",
    "# ornek metinleri yazdırma\n",
    "def decode_review(encoded_review):\n",
    "    return \" \".join([reverse_word_index.get(word, \"?\") for word in encoded_review]) # her sayiyi kelimeyi cevir\n",
    "\n",
    "random_indices = np.random.choice(len(x_train), size=3, replace = False) # rastgele 3 yorum sec\n",
    "for i in random_indices:\n",
    "    print(f\"Yorum : {decode_review(x_train[i])},'\\n'\")\n",
    "    print(f\"etiket : {y_train[i]}\")\n",
    "    print()\n",
    "\n"
   ]
  },
  {
   "cell_type": "code",
   "execution_count": 16,
   "metadata": {},
   "outputs": [
    {
     "name": "stderr",
     "output_type": "stream",
     "text": [
      "c:\\Users\\mrtmm\\AppData\\Local\\Programs\\Python\\Python310\\lib\\site-packages\\keras\\src\\layers\\layer.py:395: UserWarning: `build()` was called on layer 'transformer_model_13', however the layer does not have a `build()` method implemented and it looks like it has unbuilt state. This will cause the layer to be marked as built, despite not being actually built, which may cause failures down the line. Make sure to implement a proper `build()` method.\n",
      "  warnings.warn(\n"
     ]
    },
    {
     "data": {
      "text/html": [
       "<pre style=\"white-space:pre;overflow-x:auto;line-height:normal;font-family:Menlo,'DejaVu Sans Mono',consolas,'Courier New',monospace\"><span style=\"font-weight: bold\">Model: \"transformer_model_13\"</span>\n",
       "</pre>\n"
      ],
      "text/plain": [
       "\u001b[1mModel: \"transformer_model_13\"\u001b[0m\n"
      ]
     },
     "metadata": {},
     "output_type": "display_data"
    },
    {
     "data": {
      "text/html": [
       "<pre style=\"white-space:pre;overflow-x:auto;line-height:normal;font-family:Menlo,'DejaVu Sans Mono',consolas,'Courier New',monospace\">┏━━━━━━━━━━━━━━━━━━━━━━━━━━━━━━━━━┳━━━━━━━━━━━━━━━━━━━━━━━━┳━━━━━━━━━━━━━━━┓\n",
       "┃<span style=\"font-weight: bold\"> Layer (type)                    </span>┃<span style=\"font-weight: bold\"> Output Shape           </span>┃<span style=\"font-weight: bold\">       Param # </span>┃\n",
       "┡━━━━━━━━━━━━━━━━━━━━━━━━━━━━━━━━━╇━━━━━━━━━━━━━━━━━━━━━━━━╇━━━━━━━━━━━━━━━┩\n",
       "│ embedding_13 (<span style=\"color: #0087ff; text-decoration-color: #0087ff\">Embedding</span>)        │ (<span style=\"color: #00af00; text-decoration-color: #00af00\">1</span>, <span style=\"color: #00af00; text-decoration-color: #00af00\">200</span>, <span style=\"color: #00af00; text-decoration-color: #00af00\">64</span>)           │     <span style=\"color: #00af00; text-decoration-color: #00af00\">1,280,000</span> │\n",
       "├─────────────────────────────────┼────────────────────────┼───────────────┤\n",
       "│ transformer_block_52            │ ?                      │        <span style=\"color: #00af00; text-decoration-color: #00af00\">99,712</span> │\n",
       "│ (<span style=\"color: #0087ff; text-decoration-color: #0087ff\">TransformerBlock</span>)              │                        │               │\n",
       "├─────────────────────────────────┼────────────────────────┼───────────────┤\n",
       "│ transformer_block_53            │ ?                      │   <span style=\"color: #00af00; text-decoration-color: #00af00\">0</span> (unbuilt) │\n",
       "│ (<span style=\"color: #0087ff; text-decoration-color: #0087ff\">TransformerBlock</span>)              │                        │               │\n",
       "├─────────────────────────────────┼────────────────────────┼───────────────┤\n",
       "│ transformer_block_54            │ ?                      │   <span style=\"color: #00af00; text-decoration-color: #00af00\">0</span> (unbuilt) │\n",
       "│ (<span style=\"color: #0087ff; text-decoration-color: #0087ff\">TransformerBlock</span>)              │                        │               │\n",
       "├─────────────────────────────────┼────────────────────────┼───────────────┤\n",
       "│ transformer_block_55            │ ?                      │   <span style=\"color: #00af00; text-decoration-color: #00af00\">0</span> (unbuilt) │\n",
       "│ (<span style=\"color: #0087ff; text-decoration-color: #0087ff\">TransformerBlock</span>)              │                        │               │\n",
       "├─────────────────────────────────┼────────────────────────┼───────────────┤\n",
       "│ global_average_pooling1d_13     │ ?                      │             <span style=\"color: #00af00; text-decoration-color: #00af00\">0</span> │\n",
       "│ (<span style=\"color: #0087ff; text-decoration-color: #0087ff\">GlobalAveragePooling1D</span>)        │                        │               │\n",
       "├─────────────────────────────────┼────────────────────────┼───────────────┤\n",
       "│ dropout_126 (<span style=\"color: #0087ff; text-decoration-color: #0087ff\">Dropout</span>)           │ ?                      │             <span style=\"color: #00af00; text-decoration-color: #00af00\">0</span> │\n",
       "├─────────────────────────────────┼────────────────────────┼───────────────┤\n",
       "│ dense_125 (<span style=\"color: #0087ff; text-decoration-color: #0087ff\">Dense</span>)               │ (<span style=\"color: #00af00; text-decoration-color: #00af00\">1</span>, <span style=\"color: #00af00; text-decoration-color: #00af00\">1</span>)                 │            <span style=\"color: #00af00; text-decoration-color: #00af00\">65</span> │\n",
       "└─────────────────────────────────┴────────────────────────┴───────────────┘\n",
       "</pre>\n"
      ],
      "text/plain": [
       "┏━━━━━━━━━━━━━━━━━━━━━━━━━━━━━━━━━┳━━━━━━━━━━━━━━━━━━━━━━━━┳━━━━━━━━━━━━━━━┓\n",
       "┃\u001b[1m \u001b[0m\u001b[1mLayer (type)                   \u001b[0m\u001b[1m \u001b[0m┃\u001b[1m \u001b[0m\u001b[1mOutput Shape          \u001b[0m\u001b[1m \u001b[0m┃\u001b[1m \u001b[0m\u001b[1m      Param #\u001b[0m\u001b[1m \u001b[0m┃\n",
       "┡━━━━━━━━━━━━━━━━━━━━━━━━━━━━━━━━━╇━━━━━━━━━━━━━━━━━━━━━━━━╇━━━━━━━━━━━━━━━┩\n",
       "│ embedding_13 (\u001b[38;5;33mEmbedding\u001b[0m)        │ (\u001b[38;5;34m1\u001b[0m, \u001b[38;5;34m200\u001b[0m, \u001b[38;5;34m64\u001b[0m)           │     \u001b[38;5;34m1,280,000\u001b[0m │\n",
       "├─────────────────────────────────┼────────────────────────┼───────────────┤\n",
       "│ transformer_block_52            │ ?                      │        \u001b[38;5;34m99,712\u001b[0m │\n",
       "│ (\u001b[38;5;33mTransformerBlock\u001b[0m)              │                        │               │\n",
       "├─────────────────────────────────┼────────────────────────┼───────────────┤\n",
       "│ transformer_block_53            │ ?                      │   \u001b[38;5;34m0\u001b[0m (unbuilt) │\n",
       "│ (\u001b[38;5;33mTransformerBlock\u001b[0m)              │                        │               │\n",
       "├─────────────────────────────────┼────────────────────────┼───────────────┤\n",
       "│ transformer_block_54            │ ?                      │   \u001b[38;5;34m0\u001b[0m (unbuilt) │\n",
       "│ (\u001b[38;5;33mTransformerBlock\u001b[0m)              │                        │               │\n",
       "├─────────────────────────────────┼────────────────────────┼───────────────┤\n",
       "│ transformer_block_55            │ ?                      │   \u001b[38;5;34m0\u001b[0m (unbuilt) │\n",
       "│ (\u001b[38;5;33mTransformerBlock\u001b[0m)              │                        │               │\n",
       "├─────────────────────────────────┼────────────────────────┼───────────────┤\n",
       "│ global_average_pooling1d_13     │ ?                      │             \u001b[38;5;34m0\u001b[0m │\n",
       "│ (\u001b[38;5;33mGlobalAveragePooling1D\u001b[0m)        │                        │               │\n",
       "├─────────────────────────────────┼────────────────────────┼───────────────┤\n",
       "│ dropout_126 (\u001b[38;5;33mDropout\u001b[0m)           │ ?                      │             \u001b[38;5;34m0\u001b[0m │\n",
       "├─────────────────────────────────┼────────────────────────┼───────────────┤\n",
       "│ dense_125 (\u001b[38;5;33mDense\u001b[0m)               │ (\u001b[38;5;34m1\u001b[0m, \u001b[38;5;34m1\u001b[0m)                 │            \u001b[38;5;34m65\u001b[0m │\n",
       "└─────────────────────────────────┴────────────────────────┴───────────────┘\n"
      ]
     },
     "metadata": {},
     "output_type": "display_data"
    },
    {
     "data": {
      "text/html": [
       "<pre style=\"white-space:pre;overflow-x:auto;line-height:normal;font-family:Menlo,'DejaVu Sans Mono',consolas,'Courier New',monospace\"><span style=\"font-weight: bold\"> Total params: </span><span style=\"color: #00af00; text-decoration-color: #00af00\">1,379,777</span> (5.26 MB)\n",
       "</pre>\n"
      ],
      "text/plain": [
       "\u001b[1m Total params: \u001b[0m\u001b[38;5;34m1,379,777\u001b[0m (5.26 MB)\n"
      ]
     },
     "metadata": {},
     "output_type": "display_data"
    },
    {
     "data": {
      "text/html": [
       "<pre style=\"white-space:pre;overflow-x:auto;line-height:normal;font-family:Menlo,'DejaVu Sans Mono',consolas,'Courier New',monospace\"><span style=\"font-weight: bold\"> Trainable params: </span><span style=\"color: #00af00; text-decoration-color: #00af00\">1,379,777</span> (5.26 MB)\n",
       "</pre>\n"
      ],
      "text/plain": [
       "\u001b[1m Trainable params: \u001b[0m\u001b[38;5;34m1,379,777\u001b[0m (5.26 MB)\n"
      ]
     },
     "metadata": {},
     "output_type": "display_data"
    },
    {
     "data": {
      "text/html": [
       "<pre style=\"white-space:pre;overflow-x:auto;line-height:normal;font-family:Menlo,'DejaVu Sans Mono',consolas,'Courier New',monospace\"><span style=\"font-weight: bold\"> Non-trainable params: </span><span style=\"color: #00af00; text-decoration-color: #00af00\">0</span> (0.00 B)\n",
       "</pre>\n"
      ],
      "text/plain": [
       "\u001b[1m Non-trainable params: \u001b[0m\u001b[38;5;34m0\u001b[0m (0.00 B)\n"
      ]
     },
     "metadata": {},
     "output_type": "display_data"
    }
   ],
   "source": [
    "# Transformers Blok\n",
    "\n",
    "class TransformerBlock(layers.Layer):\n",
    "    def __init__(self, embed_size, heads ,dropout_rate =0.3):\n",
    "        super(TransformerBlock, self).__init__()\n",
    "\n",
    "        self.attention = layers.MultiHeadAttention(num_heads=heads, key_dim = embed_size)\n",
    "        self.norm1 = layers.LayerNormalization(epsilon = 1e-6) # 1. normalizasyon katmanımız.\n",
    "        self.norm2 = layers.LayerNormalization(epsilon = 1e-6) # 2. normalizasyon katmanımız.\n",
    " \n",
    "        self.feed_foward = models.Sequential([\n",
    "            layers.Dense(embed_size*4, activation = \"relu\"),\n",
    "            layers.Dense(embed_size)\n",
    "        ])\n",
    "        self.dropout1 = layers.Dropout(dropout_rate)\n",
    "        self.dropout2 = layers.Dropout(dropout_rate)\n",
    "\n",
    "    def call(self, x, training):\n",
    "        # dikkat (attention ) mekanizmasını uygulama\n",
    "        attention = self.attention(x, x)\n",
    "        x = self.norm1(x + self.dropout1(attention, training = training))\n",
    "        feed_forward = self.feed_foward(x)\n",
    "        return self.norm2(x + self.dropout2(feed_forward, training = training))\n",
    "    \n",
    "# Transformers Modeli\n",
    "\n",
    "class TransformerModel(models.Model):\n",
    "    def __init__(self, num_layers,embed_size, heads, input_dim, output_dim , dropout_rate = 0.3):\n",
    "        super(TransformerModel, self).__init__()\n",
    "\n",
    "        self.embedding = layers.Embedding(input_dim=input_dim, output_dim=embed_size)\n",
    "        self.transformer_blocks = [TransformerBlock(embed_size, heads, dropout_rate) for _ in range(num_layers)]\n",
    "        self.global_avg_pool = layers.GlobalAveragePooling1D()\n",
    "        self.dropout = layers.Dropout(dropout_rate)\n",
    "        self.fc = layers.Dense(output_dim, activation = \"sigmoid\")\n",
    "\n",
    "    def call(self, x, training):\n",
    "        x = self.embedding(x)\n",
    "        for transformer in self.transformer_blocks:\n",
    "            x = transformer(x, training=training)\n",
    "            x = self.global_avg_pool(x)\n",
    "            x = self.dropout(x, training=training)\n",
    "            return self.fc(x)\n",
    "        \n",
    "# Modeli olusturma\n",
    "\n",
    "num_layers = 4 \n",
    "embed_size = 64\n",
    "num_heads = 4\n",
    "input_dim = max_features\n",
    "output_dim = 1 # ikli sınuflafırma 1-0\n",
    "dropout_rate = 0.1\n",
    "\n",
    "model = TransformerModel(num_layers, embed_size, num_heads, input_dim, output_dim, dropout_rate)\n",
    "\n",
    "# Dummy input ile modeli çağırın\n",
    "dummy_input = tf.random.uniform((1, maxlen), minval=0, maxval=input_dim, dtype=tf.int32)\n",
    "_ = model(dummy_input, training=False)  # Modelin yapısını oluşturun\n",
    "\n",
    "model.compile(loss = \"binary_crossentropy\", optimizer = \"adam\", metrics = [\"accuracy\"])\n",
    "\n",
    "model.summary()\n"
   ]
  },
  {
   "cell_type": "code",
   "execution_count": 17,
   "metadata": {},
   "outputs": [
    {
     "name": "stdout",
     "output_type": "stream",
     "text": [
      "Epoch 1/4\n",
      "\u001b[1m196/196\u001b[0m \u001b[32m━━━━━━━━━━━━━━━━━━━━\u001b[0m\u001b[37m\u001b[0m \u001b[1m87s\u001b[0m 393ms/step - accuracy: 0.7095 - loss: 0.5451 - val_accuracy: 0.8383 - val_loss: 0.3672\n",
      "Epoch 2/4\n",
      "\u001b[1m196/196\u001b[0m \u001b[32m━━━━━━━━━━━━━━━━━━━━\u001b[0m\u001b[37m\u001b[0m \u001b[1m70s\u001b[0m 359ms/step - accuracy: 0.9119 - loss: 0.2236 - val_accuracy: 0.8316 - val_loss: 0.3874\n",
      "Epoch 3/4\n",
      "\u001b[1m196/196\u001b[0m \u001b[32m━━━━━━━━━━━━━━━━━━━━\u001b[0m\u001b[37m\u001b[0m \u001b[1m67s\u001b[0m 344ms/step - accuracy: 0.9404 - loss: 0.1568 - val_accuracy: 0.8364 - val_loss: 0.4402\n",
      "Epoch 4/4\n",
      "\u001b[1m196/196\u001b[0m \u001b[32m━━━━━━━━━━━━━━━━━━━━\u001b[0m\u001b[37m\u001b[0m \u001b[1m68s\u001b[0m 345ms/step - accuracy: 0.9634 - loss: 0.1033 - val_accuracy: 0.8240 - val_loss: 0.5137\n"
     ]
    }
   ],
   "source": [
    "# model egitimi \n",
    "\n",
    "history = model.fit(x_train, y_train, batch_size = 128, epochs = 4, validation_data = (x_test, y_test))"
   ]
  },
  {
   "cell_type": "code",
   "execution_count": 18,
   "metadata": {},
   "outputs": [
    {
     "data": {
      "image/png": "[encoded data removed]",
      "text/plain": [
       "<Figure size 640x480 with 2 Axes>"
      ]
     },
     "metadata": {},
     "output_type": "display_data"
    }
   ],
   "source": [
    "plt.figure()\n",
    "\n",
    "plt.subplot(1,2,1)\n",
    "plt.plot(history.history['accuracy'], label='Train Acc')\n",
    "plt.plot(history.history['val_accuracy'], label='Val Acc')\n",
    "plt.title(\"Traning and Validation Accuracy\")\n",
    "plt.xlabel('Epochs')\n",
    "plt.ylabel('Accuracy')\n",
    "plt.legend()\n",
    "plt.grid('True')\n",
    "\n",
    "plt.subplot(1,2,2)\n",
    "plt.plot(history.history['loss'], label='Train loss')\n",
    "plt.plot(history.history['val_loss'], label='Val loss')\n",
    "plt.title(\"Traning and Validation loss\")\n",
    "plt.xlabel('Epochs')\n",
    "plt.ylabel('loss')\n",
    "plt.legend()\n",
    "plt.grid('True')"
   ]
  },
  {
   "cell_type": "code",
   "execution_count": 21,
   "metadata": {},
   "outputs": [
    {
     "name": "stdout",
     "output_type": "stream",
     "text": [
      "\u001b[1m1/1\u001b[0m \u001b[32m━━━━━━━━━━━━━━━━━━━━\u001b[0m\u001b[37m\u001b[0m \u001b[1m0s\u001b[0m 39ms/step\n",
      "olumlu yorum\n"
     ]
    }
   ],
   "source": [
    "def predict_sentiment(model, text, word_index, maxlen):\n",
    "\n",
    "    # metni imdb formatında sayıya çevir\n",
    "    encoded_text = [word_index.get(word, 0) for word in text.lower().split()]\n",
    "    padded_text = pad_sequences([encoded_text], maxlen=maxlen) # padding uygula\n",
    "    prediction = model.predict(padded_text) # tahmin yap\n",
    "    return prediction[0][0]\n",
    "\n",
    "# kullanıcıdan yorum al\n",
    "user_input = input(\"Yorum gir: \")\n",
    "sentiment_score = predict_sentiment(model, user_input, word_index, maxlen)\n",
    "\n",
    "if sentiment_score >= 0.5:\n",
    "    print(\"olumsuz yorum\")\n",
    "else:\n",
    "    print(\"olumlu yorum\")"
   ]
  }
 ],
 "metadata": {
  "kernelspec": {
   "display_name": "Python 3",
   "language": "python",
   "name": "python3"
  },
  "language_info": {
   "codemirror_mode": {
    "name": "ipython",
    "version": 3
   },
   "file_extension": ".py",
   "mimetype": "text/x-python",
   "name": "python",
   "nbconvert_exporter": "python",
   "pygments_lexer": "ipython3",
   "version": "3.10.0"
  }
 },
 "nbformat": 4,
 "nbformat_minor": 2
}
