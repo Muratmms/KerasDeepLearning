{
 "cells": [
  {
   "cell_type": "markdown",
   "metadata": {},
   "source": [
    "Generative Adversarial Networks"
   ]
  },
  {
   "cell_type": "code",
   "execution_count": 12,
   "metadata": {},
   "outputs": [
    {
     "data": {
      "image/png": "[encoded data removed]",
      "text/plain": [
       "<Figure size 640x480 with 4 Axes>"
      ]
     },
     "metadata": {},
     "output_type": "display_data"
    }
   ],
   "source": [
    "import numpy as np\n",
    "import matplotlib.pyplot as plt\n",
    "\n",
    "from tensorflow.keras.datasets import mnist\n",
    "from tensorflow.keras.models import Sequential\n",
    "from tensorflow.keras.layers import Dropout, Dense, Flatten, Reshape, Conv2D, Conv2DTranspose, BatchNormalization, LeakyReLU # relu versiyonudur. girdi +x ise +x verir, -x ise -ax iler çarpımını verir, a = çok kücük bir degerdir\n",
    "from tensorflow.keras.optimizers import Adam\n",
    "from tqdm import tqdm # for dongusune ilerleme sayaci ekler\n",
    "\n",
    "import warnings\n",
    "warnings.filterwarnings(\"ignore\")\n",
    "\n",
    "# veri setini yükle\n",
    "(x_train, _), (_, _) = mnist.load_data()\n",
    "\n",
    "#normalizasyon\n",
    "x_train = x_train.astype('float32') / 255.0\n",
    "\n",
    "#boyutların ayarlanması(28x28) -> (28, 28, 1)\n",
    "x_train = np.expand_dims(x_train, axis=-1)\n",
    "\n",
    "\n",
    "plt.figure()\n",
    "for i in range(4):\n",
    "    plt.subplot(1, 4, i+1)\n",
    "    plt.imshow(x_train[i], cmap='gray')\n",
    "    plt.axis('off')"
   ]
  },
  {
   "cell_type": "markdown",
   "metadata": {},
   "source": [
    "8.3"
   ]
  },
  {
   "cell_type": "code",
   "execution_count": 13,
   "metadata": {},
   "outputs": [],
   "source": [
    "# gan param\n",
    "z_dim = 200 # gurultu vektorunun boyutu\n",
    "\n",
    "# discriminator modeline tanımla\n",
    "def build_disc():\n",
    "    model = Sequential()\n",
    "    model.add(Conv2D(64, kernel_size=3, strides = 2 , padding='same', input_shape = ( 28,28,1 )))\n",
    "    model.add(LeakyReLU(alpha=0.3))\n",
    "    model.add(Dropout(0.3))  # Dropout ekledik\n",
    "\n",
    "    model.add(Conv2D(128, kernel_size=3, strides = 2 , padding='same'))\n",
    "    model.add(LeakyReLU(alpha=0.3))\n",
    "    model.add(Dropout(0.3))  # Dropout ekledik\n",
    "\n",
    "    model.add(Flatten())\n",
    "    model.add(Dense(1,activation='sigmoid'))\n",
    "\n",
    "    model.compile(loss = \"binary_crossentropy\", optimizer = Adam(0.0002, 0.5), metrics = ['accuracy']) # 0.0002 = learning rate, 0.5 = beta_1\n",
    "\n",
    "    return model\n",
    "\n",
    "# generator modeline tanımla\n",
    "def build_gen():\n",
    "    model = Sequential()\n",
    "    model.add(Dense(7*7*256, input_dim=z_dim))  # 128'den 256'ya çıkardık\n",
    "    model.add(LeakyReLU(alpha=0.2))\n",
    "    model.add(Reshape((7,7,256)))\n",
    "    model.add(BatchNormalization())\n",
    "\n",
    "    model.add(Conv2DTranspose(128, kernel_size=3, strides=2, padding='same'))  # Yeni katman\n",
    "    model.add(LeakyReLU(alpha=0.2))\n",
    "    model.add(BatchNormalization())\n",
    "\n",
    "    model.add(Conv2DTranspose(64, kernel_size=3, strides=2, padding='same'))  # Önceki katman\n",
    "    model.add(LeakyReLU(alpha=0.2))\n",
    "    model.add(BatchNormalization())\n",
    "\n",
    "    model.add(Conv2DTranspose(32, kernel_size=3, strides=1, padding='same'))  # Yeni katman\n",
    "    model.add(LeakyReLU(alpha=0.2))\n",
    "    model.add(BatchNormalization())\n",
    "\n",
    "    model.add(Conv2DTranspose(1, kernel_size=3, strides=1, padding='same', activation='tanh'))\n",
    "\n",
    "    return model\n"
   ]
  },
  {
   "cell_type": "markdown",
   "metadata": {},
   "source": [
    "8.4"
   ]
  },
  {
   "cell_type": "code",
   "execution_count": 14,
   "metadata": {},
   "outputs": [
    {
     "data": {
      "text/html": [
       "<pre style=\"white-space:pre;overflow-x:auto;line-height:normal;font-family:Menlo,'DejaVu Sans Mono',consolas,'Courier New',monospace\"><span style=\"font-weight: bold\">Model: \"sequential_8\"</span>\n",
       "</pre>\n"
      ],
      "text/plain": [
       "\u001b[1mModel: \"sequential_8\"\u001b[0m\n"
      ]
     },
     "metadata": {},
     "output_type": "display_data"
    },
    {
     "data": {
      "text/html": [
       "<pre style=\"white-space:pre;overflow-x:auto;line-height:normal;font-family:Menlo,'DejaVu Sans Mono',consolas,'Courier New',monospace\">┏━━━━━━━━━━━━━━━━━━━━━━━━━━━━━━━━━┳━━━━━━━━━━━━━━━━━━━━━━━━┳━━━━━━━━━━━━━━━┓\n",
       "┃<span style=\"font-weight: bold\"> Layer (type)                    </span>┃<span style=\"font-weight: bold\"> Output Shape           </span>┃<span style=\"font-weight: bold\">       Param # </span>┃\n",
       "┡━━━━━━━━━━━━━━━━━━━━━━━━━━━━━━━━━╇━━━━━━━━━━━━━━━━━━━━━━━━╇━━━━━━━━━━━━━━━┩\n",
       "│ sequential_7 (<span style=\"color: #0087ff; text-decoration-color: #0087ff\">Sequential</span>)       │ (<span style=\"color: #00d7ff; text-decoration-color: #00d7ff\">None</span>, <span style=\"color: #00af00; text-decoration-color: #00af00\">28</span>, <span style=\"color: #00af00; text-decoration-color: #00af00\">28</span>, <span style=\"color: #00af00; text-decoration-color: #00af00\">1</span>)      │     <span style=\"color: #00af00; text-decoration-color: #00af00\">2,910,849</span> │\n",
       "├─────────────────────────────────┼────────────────────────┼───────────────┤\n",
       "│ sequential_6 (<span style=\"color: #0087ff; text-decoration-color: #0087ff\">Sequential</span>)       │ (<span style=\"color: #00d7ff; text-decoration-color: #00d7ff\">None</span>, <span style=\"color: #00af00; text-decoration-color: #00af00\">1</span>)              │        <span style=\"color: #00af00; text-decoration-color: #00af00\">80,769</span> │\n",
       "└─────────────────────────────────┴────────────────────────┴───────────────┘\n",
       "</pre>\n"
      ],
      "text/plain": [
       "┏━━━━━━━━━━━━━━━━━━━━━━━━━━━━━━━━━┳━━━━━━━━━━━━━━━━━━━━━━━━┳━━━━━━━━━━━━━━━┓\n",
       "┃\u001b[1m \u001b[0m\u001b[1mLayer (type)                   \u001b[0m\u001b[1m \u001b[0m┃\u001b[1m \u001b[0m\u001b[1mOutput Shape          \u001b[0m\u001b[1m \u001b[0m┃\u001b[1m \u001b[0m\u001b[1m      Param #\u001b[0m\u001b[1m \u001b[0m┃\n",
       "┡━━━━━━━━━━━━━━━━━━━━━━━━━━━━━━━━━╇━━━━━━━━━━━━━━━━━━━━━━━━╇━━━━━━━━━━━━━━━┩\n",
       "│ sequential_7 (\u001b[38;5;33mSequential\u001b[0m)       │ (\u001b[38;5;45mNone\u001b[0m, \u001b[38;5;34m28\u001b[0m, \u001b[38;5;34m28\u001b[0m, \u001b[38;5;34m1\u001b[0m)      │     \u001b[38;5;34m2,910,849\u001b[0m │\n",
       "├─────────────────────────────────┼────────────────────────┼───────────────┤\n",
       "│ sequential_6 (\u001b[38;5;33mSequential\u001b[0m)       │ (\u001b[38;5;45mNone\u001b[0m, \u001b[38;5;34m1\u001b[0m)              │        \u001b[38;5;34m80,769\u001b[0m │\n",
       "└─────────────────────────────────┴────────────────────────┴───────────────┘\n"
      ]
     },
     "metadata": {},
     "output_type": "display_data"
    },
    {
     "data": {
      "text/html": [
       "<pre style=\"white-space:pre;overflow-x:auto;line-height:normal;font-family:Menlo,'DejaVu Sans Mono',consolas,'Courier New',monospace\"><span style=\"font-weight: bold\"> Total params: </span><span style=\"color: #00af00; text-decoration-color: #00af00\">2,991,618</span> (11.41 MB)\n",
       "</pre>\n"
      ],
      "text/plain": [
       "\u001b[1m Total params: \u001b[0m\u001b[38;5;34m2,991,618\u001b[0m (11.41 MB)\n"
      ]
     },
     "metadata": {},
     "output_type": "display_data"
    },
    {
     "data": {
      "text/html": [
       "<pre style=\"white-space:pre;overflow-x:auto;line-height:normal;font-family:Menlo,'DejaVu Sans Mono',consolas,'Courier New',monospace\"><span style=\"font-weight: bold\"> Trainable params: </span><span style=\"color: #00af00; text-decoration-color: #00af00\">2,909,889</span> (11.10 MB)\n",
       "</pre>\n"
      ],
      "text/plain": [
       "\u001b[1m Trainable params: \u001b[0m\u001b[38;5;34m2,909,889\u001b[0m (11.10 MB)\n"
      ]
     },
     "metadata": {},
     "output_type": "display_data"
    },
    {
     "data": {
      "text/html": [
       "<pre style=\"white-space:pre;overflow-x:auto;line-height:normal;font-family:Menlo,'DejaVu Sans Mono',consolas,'Courier New',monospace\"><span style=\"font-weight: bold\"> Non-trainable params: </span><span style=\"color: #00af00; text-decoration-color: #00af00\">81,729</span> (319.25 KB)\n",
       "</pre>\n"
      ],
      "text/plain": [
       "\u001b[1m Non-trainable params: \u001b[0m\u001b[38;5;34m81,729\u001b[0m (319.25 KB)\n"
      ]
     },
     "metadata": {},
     "output_type": "display_data"
    },
    {
     "name": "stdout",
     "output_type": "stream",
     "text": [
      "None\n"
     ]
    }
   ],
   "source": [
    "def build_gan(gen, disc):\n",
    "    disc.trainable = False # discriminator modeli eğitilmez\n",
    "\n",
    "    model = Sequential()\n",
    "    model.add(gen) # generator modeli\n",
    "    model.add(disc) # discriminator modeli\n",
    "    model.compile(loss = \"binary_crossentropy\", optimizer = Adam(0.0002, 0.5))\n",
    "    return model\n",
    "\n",
    "disc = build_disc()\n",
    "gen = build_gen()\n",
    "gan = build_gan(gen, disc)\n",
    "print(gan.summary())"
   ]
  },
  {
   "cell_type": "markdown",
   "metadata": {},
   "source": [
    "8.5.6"
   ]
  },
  {
   "cell_type": "code",
   "execution_count": 15,
   "metadata": {},
   "outputs": [
    {
     "name": "stderr",
     "output_type": "stream",
     "text": [
      "Traiding Process:   0%|          | 1/4000 [00:03<4:14:22,  3.82s/it]"
     ]
    },
    {
     "name": "stdout",
     "output_type": "stream",
     "text": [
      "Epoch: 0 [D loss: 0.6879265308380127 - D accuracy: 54.6875] [G loss: 0.6730931997299194]\n"
     ]
    },
    {
     "name": "stderr",
     "output_type": "stream",
     "text": [
      "Traiding Process:  25%|██▌       | 1001/4000 [05:50<19:46,  2.53it/s]"
     ]
    },
    {
     "name": "stdout",
     "output_type": "stream",
     "text": [
      "Epoch: 1000 [D loss: 1.218122124671936 - D accuracy: 34.06507873535156] [G loss: 0.17196530103683472]\n"
     ]
    },
    {
     "name": "stderr",
     "output_type": "stream",
     "text": [
      "Traiding Process:  50%|█████     | 2001/4000 [12:29<13:03,  2.55it/s]"
     ]
    },
    {
     "name": "stdout",
     "output_type": "stream",
     "text": [
      "Epoch: 2000 [D loss: 1.3160632848739624 - D accuracy: 34.17078399658203] [G loss: 0.14864860475063324]\n"
     ]
    },
    {
     "name": "stderr",
     "output_type": "stream",
     "text": [
      "Traiding Process:  75%|███████▌  | 3001/4000 [19:05<06:55,  2.41it/s]"
     ]
    },
    {
     "name": "stdout",
     "output_type": "stream",
     "text": [
      "Epoch: 3000 [D loss: 1.3497414588928223 - D accuracy: 34.18624496459961] [G loss: 0.14061111211776733]\n"
     ]
    },
    {
     "name": "stderr",
     "output_type": "stream",
     "text": [
      "Traiding Process: 100%|██████████| 4000/4000 [25:55<00:00,  2.57it/s]\n"
     ]
    }
   ],
   "source": [
    "epochs = 4000\n",
    "\n",
    "batch_size = 64\n",
    "half_batch = batch_size // 2\n",
    "\n",
    "for epoch in tqdm(range(epochs), desc=\"Traiding Process\"):\n",
    "\n",
    "    idx = np.random.randint(0, x_train.shape[0], half_batch)\n",
    "    real_imgs = x_train[idx]\n",
    "    real_labels = np.ones((half_batch, 1)) # gerçek resimler için etiketler\n",
    "\n",
    "    noise = np.random.normal(0, 1, (half_batch, z_dim))\n",
    "    fake_imgs = gen.predict(noise, verbose=0)\n",
    "    fake_labels = np.zeros((half_batch, 1)) # sahte resimler için etiketler\n",
    "\n",
    "    d_loss_real = disc.train_on_batch(real_imgs, real_labels)\n",
    "    d_loss_fake = disc.train_on_batch(fake_imgs, fake_labels)\n",
    "    d_loss = np.add(d_loss_real, d_loss_fake) * 0.5\n",
    "\n",
    "    noise = np.random.normal(0, 1, (batch_size, z_dim))\n",
    "    valid_y = np.ones((batch_size, 1))\n",
    "    g_loss = gan.train_on_batch(noise, valid_y)\n",
    "\n",
    "    if epoch % 1000 == 0:\n",
    "        print(f\"Epoch: {epoch} [D loss: {d_loss[0]} - D accuracy: {100*d_loss[1]}] [G loss: {g_loss}]\")"
   ]
  },
  {
   "cell_type": "code",
   "execution_count": 16,
   "metadata": {},
   "outputs": [
    {
     "data": {
      "image/png": "[encoded data removed]",
      "text/plain": [
       "<Figure size 1000x100 with 10 Axes>"
      ]
     },
     "metadata": {},
     "output_type": "display_data"
    }
   ],
   "source": [
    "def plot_gen(gen, epoch, examples=10, dim=(1, 10)):\n",
    "\n",
    "    noise = np.random.normal(0, 1, size=[examples, z_dim])\n",
    "    generated_imgs = gen.predict(noise,verbose=0)\n",
    "    generated_imgs = 0.5*generated_imgs + 0.5\n",
    "\n",
    "    plt.figure(figsize=(10, 1))\n",
    "    for i in range(generated_imgs.shape[0]):\n",
    "        plt.subplot(dim[0], dim[1], i+1)\n",
    "        plt.imshow(generated_imgs[i,:,:,0], cmap='gray')\n",
    "        plt.axis('off')\n",
    "    plt.tight_layout()\n",
    "    plt.savefig(f\"gan_generated_image_epoch_{epoch}.png\")\n",
    "    plt.show()\n",
    "plot_gen(gen, epochs)"
   ]
  }
 ],
 "metadata": {
  "kernelspec": {
   "display_name": "Python 3",
   "language": "python",
   "name": "python3"
  },
  "language_info": {
   "codemirror_mode": {
    "name": "ipython",
    "version": 3
   },
   "file_extension": ".py",
   "mimetype": "text/x-python",
   "name": "python",
   "nbconvert_exporter": "python",
   "pygments_lexer": "ipython3",
   "version": "3.10.0"
  }
 },
 "nbformat": 4,
 "nbformat_minor": 2
}
